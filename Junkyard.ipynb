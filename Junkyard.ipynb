{
 "cells": [
  {
   "cell_type": "code",
   "execution_count": null,
   "outputs": [],
   "source": [
    "    def coherence2D(self, interaction_times=None, diagram=None, t_range=None, r=10, parallel=False):\n",
    "        '''\n",
    "        computes the 2D coherence plot for a single 3D order diagram with fixed population time.\n",
    "        It can parallelized if resources are available.\n",
    "        :param interaction_times: list of initial arrival times for pulses and last entry is the arrival time for local\n",
    "        oscillator.\n",
    "        :param diagram: a double-sided diagram (ufss diagramGenerator format)\n",
    "        :param t_range: a list of scan range for second pulse arrival time and detection time.\n",
    "        :param r: time resolution (steps per fs)\n",
    "        :param parallel: Parallelization control, True or False\n",
    "        :return: a list of density matrices and a list of times\n",
    "        '''\n",
    "\n",
    "        if parallel:\n",
    "            from qutip import parallel as pp\n",
    "\n",
    "        coh1_time = np.linspace(0, t_range[0], t_range[0]*r)  # time list for the first delay\n",
    "        rho = self.rho\n",
    "        interaction = diagram[0]  # first pulse interaction\n",
    "        print('appling first pulse at t1=0')\n",
    "        rho = self.apply_pulse(rho, interaction)\n",
    "        print('evolve state after first pulse ')\n",
    "        results = mesolve(self.H, rho, coh1_time, self.c_ops, [])\n",
    "        states1 = results.states  # collection of all states before second interaction\n",
    "        #print('states after first coherence ', states1[-1])\n",
    "        interaction = diagram[1]\n",
    "        pop_time = np.linspace(0, t_range[1], t_range[1]*r)\n",
    "        #print(states1[-1])\n",
    "        print('applying 2nd pulse and evolving the population for fixed time')\n",
    "        self.tlist = pop_time\n",
    "        states1 = pp.parfor(self.para_mesolve2, states1, x=interaction, only_last_state=True)\n",
    "        #print(states1[-1])\n",
    "        #print('states after pop ', states1[-1])\n",
    "        # at this point we have a whole list of states, each evolved for population time. These states will act as\n",
    "        # initial states for next set of simulations.\n",
    "        print('applying 3rd pulse and evolving afterwards')\n",
    "        x = diagram[2]\n",
    "        coh2_time = np.linspace(0, t_range[1], t_range[1]*r)\n",
    "        final_states = []\n",
    "\n",
    "        self.tlist = coh2_time\n",
    "        final_states.append(pp.parfor(self.para_mesolve2, states1, x=x, only_last_state=False))\n",
    "        return final_states[0]\n",
    "\n",
    "    def coherence2D_pop(self, diagram, tau1, tau2, tau3, r=100, r2=7, parallel=False):\n",
    "      \"\"\"\n",
    "      computes the third order response for a single diagram with fixed population time\n",
    "      It can parallelized if resources are available\n",
    "      \"\"\"\n",
    "      if parallel:\n",
    "        from qutip import parallel as pp\n",
    "      t1=0\n",
    "      coh1_time = np.linspace(0,tau1,tau1*r)\n",
    "      rho = self.rho\n",
    "      x = diagram[0] # first pulse interaction\n",
    "      print('appling first pulse at t1=0')\n",
    "      rho = self.apply_pulse(rho, x)\n",
    "      print('evolve state after first pulse ')\n",
    "      results = mesolve(self.H, rho, coh1_time, self.c_ops, [])\n",
    "      states1 = results.states #collection of all states before second interaction\n",
    "      #print('states1 ', np.shape(states1))\n",
    "      #print('states1 len',len(states1))\n",
    "      #print('states after first coherence ', states1[-1])\n",
    "      #########################################################################\n",
    "      x = diagram[1] # select next pulse interaction\n",
    "      pop_time = np.linspace(0, tau2, r2)\n",
    "      print('population time list ', pop_time)\n",
    "      #print(states1[-1])\n",
    "      print('applying 2nd pulse and evolving the population for fixed time')\n",
    "      self.tlist = pop_time\n",
    "      states2 = pp.parfor(self.para_mesolve2, states1, x=x, only_last_state=False)\n",
    "      states2 = np.swapaxes(states2, 0,1)\n",
    "      #print(np.shape(states2))\n",
    "      #print(len(states2))\n",
    "      #print(states1[-1])\n",
    "      #print('states after pop ', states1[-1])\n",
    "      #at this point we have a whole list of states, which will act as initial state for final evolution\n",
    "      print('applying 3rd pulse and evolving afterwards')\n",
    "      x = diagram[2]\n",
    "      coh2_time = np.linspace(0,tau3, tau3*r)\n",
    "      final_states_all_pop = []\n",
    "      self.tlist = coh2_time\n",
    "      for j in range(len(pop_time)):\n",
    "        states = states2[j]\n",
    "        final_states = []\n",
    "        final_states.append(pp.parfor(self.para_mesolve2, states1, x=x, only_last_state=False))\n",
    "        final_states_all_pop.append(final_states[0])\n",
    "      return final_states_all_pop"
   ],
   "metadata": {
    "collapsed": false,
    "pycharm": {
     "name": "#%%\n"
    }
   }
  },
  {
   "cell_type": "code",
   "execution_count": null,
   "outputs": [],
   "source": [
    "    def multi_dimensional_coherence(self, time_list=None, diagram=None, r=10, parallel=False):\n",
    "        '''\n",
    "        computes the 2D coherence plot for a single diagram. First interaction is always at t=0.\n",
    "        It can parallelized if resources are available.\n",
    "\n",
    "        :param time_list: list of tuples. In each tuple, the first element is the time delay and the second element is a\n",
    "        True/False statement indicating whether to scan the time delay.\n",
    "        :param diagram: a double-sided diagram (ufss diagramGenerator format)\n",
    "        :param r: time resolution (steps per fs)\n",
    "        :param parallel: Parallelization control, True or False\n",
    "        :return: a list of density matrices and a list of times\n",
    "        '''\n",
    "\n",
    "        if len(time_list) != len(diagram):\n",
    "            print('pulse number and time delays do not match')\n",
    "            return 0\n",
    "\n",
    "        if parallel:\n",
    "            from qutip import parallel as pp\n",
    "\n",
    "        rho = self.rho  # taking the initial density matrix from the system class.\n",
    "        for i in range(len(time_list)):\n",
    "            t = time_list[i]\n",
    "            interaction = diagram[i]\n",
    "            if t[1]:\n",
    "                t_scan = np.linspace(0, t[0], t[0]*r)  # creating a time scan if the time delay has to be scanned.\n",
    "                results = mesolve(self.H, rho, t_scan, self.c_ops, [])\n",
    "                states.append = results.states\n"
   ],
   "metadata": {
    "collapsed": false,
    "pycharm": {
     "name": "#%%\n"
    }
   }
  },
  {
   "cell_type": "code",
   "execution_count": null,
   "outputs": [],
   "source": [
    "    def para_mesolve2(self, rho, tlist=None, x=None, only_last_state=True):\n",
    "        rho = self.apply_pulse(rho, x)\n",
    "        if only_last_state:\n",
    "            return mesolve(self.H, rho, self.tlist, self.c_ops, []).states[-1]\n",
    "        else:\n",
    "            return mesolve(self.H, rho, self.tlist, self.c_ops, []).states"
   ],
   "metadata": {
    "collapsed": false,
    "pycharm": {
     "name": "#%%\n"
    }
   }
  },
  {
   "cell_type": "code",
   "execution_count": null,
   "outputs": [],
   "source": [],
   "metadata": {
    "collapsed": false,
    "pycharm": {
     "name": "#%%\n"
    }
   }
  },
  {
   "cell_type": "code",
   "execution_count": null,
   "outputs": [],
   "source": [],
   "metadata": {
    "collapsed": false,
    "pycharm": {
     "name": "#%%\n"
    }
   }
  },
  {
   "cell_type": "code",
   "execution_count": null,
   "outputs": [],
   "source": [
    "    def multi_dimensional_coherence(self, time_list=None, diagram=None, r=10, parallel=False):\n",
    "        '''\n",
    "        computes the 2D coherence plot for a single diagram. First interaction is always at t=0.\n",
    "        It can parallelized if resources are available.\n",
    "\n",
    "        :param time_list: list of tuples. In each tuple, the first element is the time delay and the second element is a\n",
    "        True/False statement indicating whether to scan the time delay.\n",
    "        :param diagram: a double-sided diagram (ufss diagramGenerator format)\n",
    "        :param r: time resolution (steps per fs)\n",
    "        :param parallel: Parallelization control, True or False\n",
    "        :return: a list of density matrices and a list of times\n",
    "        '''\n",
    "\n",
    "        if len(time_list) != len(diagram):\n",
    "            print('pulse number and time delays do not match')\n",
    "            return 0\n",
    "\n",
    "        if parallel:\n",
    "            from qutip import parallel as pp\n",
    "\n",
    "        rho = self.rho  # taking the initial density matrix from the system class.\n",
    "        for i in range(len(time_list)):\n",
    "            t = time_list[i]\n",
    "            interaction = diagram[i]\n",
    "            if t[1]:\n",
    "                t_scan = np.linspace(0, t[0], t[0]*r)  # creating a time scan if the time delay has to be scanned.\n",
    "                results = mesolve(self.H, rho, t_scan, self.c_ops, [])\n",
    "                states.append = results.states\n"
   ],
   "metadata": {
    "collapsed": false,
    "pycharm": {
     "name": "#%%\n"
    }
   }
  },
  {
   "cell_type": "code",
   "execution_count": null,
   "outputs": [],
   "source": [
    "    def para_mesolve2(self, rho, tlist=None, x=None, only_last_state=True):\n",
    "        rho = self.apply_pulse(rho, x)\n",
    "        if only_last_state:\n",
    "            return mesolve(self.H, rho, self.tlist, self.c_ops, []).states[-1]\n",
    "        else:\n",
    "            return mesolve(self.H, rho, self.tlist, self.c_ops, []).states"
   ],
   "metadata": {
    "collapsed": false,
    "pycharm": {
     "name": "#%%\n"
    }
   }
  },
  {
   "cell_type": "code",
   "execution_count": null,
   "outputs": [],
   "source": [],
   "metadata": {
    "collapsed": false,
    "pycharm": {
     "name": "#%%\n"
    }
   }
  },
  {
   "cell_type": "code",
   "execution_count": null,
   "outputs": [],
   "source": [],
   "metadata": {
    "collapsed": false,
    "pycharm": {
     "name": "#%%\n"
    }
   }
  }
 ],
 "metadata": {
  "kernelspec": {
   "display_name": "Python 3",
   "language": "python",
   "name": "python3"
  },
  "language_info": {
   "codemirror_mode": {
    "name": "ipython",
    "version": 2
   },
   "file_extension": ".py",
   "mimetype": "text/x-python",
   "name": "python",
   "nbconvert_exporter": "python",
   "pygments_lexer": "ipython2",
   "version": "2.7.6"
  }
 },
 "nbformat": 4,
 "nbformat_minor": 0
}