{
 "cells": [
  {
   "cell_type": "code",
   "execution_count": 2,
   "metadata": {
    "collapsed": true,
    "pycharm": {
     "name": "#%%\n"
    }
   },
   "outputs": [],
   "source": [
    "# loading the required packages\n",
    "from qutip import * # quantum simulation\n",
    "from classes import *\n",
    "import numpy as np # basic array manupulation\n",
    "import matplotlib.pyplot as plt # for plotting\n",
    "import ufss # digram generation"
   ]
  },
  {
   "cell_type": "code",
   "execution_count": 23,
   "outputs": [
    {
     "name": "stdout",
     "output_type": "stream",
     "text": [
      "the rephasing diagrams are R1, R2 and R3 \n"
     ]
    },
    {
     "data": {
      "text/plain": "<pyx.canvas.canvas at 0x7f976cff5a00>",
      "image/svg+xml": "<?xml version=\"1.0\" encoding=\"utf-8\"?>\n<svg xmlns=\"http://www.w3.org/2000/svg\" fill=\"none\" version=\"1.1\" viewBox=\"-18.0079 -86.0394 63.6743 87.0394\" x=\"-18.0079pt\" y=\"-86.0394pt\" width=\"63.6743pt\" height=\"87.0394pt\" stroke-width=\"0.566929\" stroke-miterlimit=\"10.000000\">\n <path d=\"M0 -0L0 -28.3465\" stroke=\"black\"/>\n <path d=\"M28.3465 -0L28.3465 -28.3465\" stroke=\"black\"/>\n <path d=\"M31.1811 -14.1732L31.1811 -14.1782A2.83465 2.83465 0 0 0 25.5118 -14.1732A2.83465 2.83465 0 0 0 31.1811 -14.1683Z\" fill=\"black\"/>\n <path d=\"M42.5197 -0L32.7908 -9.72886\" stroke=\"black\"/>\n <g stroke-linecap=\"butt\" stroke-dasharray=\"none\">\n  <path d=\"M31.6008 -6.31661L28.3465 -14.1732L36.2031 -10.9189L32.7908 -9.72886Z\" fill=\"black\"/>\n </g>\n <g transform=\"matrix(1.000000,0.000000,0.000000,1.000000,39.685039,-2.834646)\">\n  <path d=\"M0.418431 -0M3.31756 -0.757161C3.35741 -0.358655 3.6264 0.0597758 4.09465 0.0597758C4.30386 0.0597758 4.91158 -0.0797011 4.91158 -0.886675L4.91158 -1.44458L4.66252 -1.44458L4.66252 -0.886675C4.66252 -0.308842 4.41345 -0.249066 4.30386 -0.249066C3.97509 -0.249066 3.93524 -0.697385 3.93524 -0.747198L3.93524 -2.73973C3.93524 -3.15816 3.93524 -3.5467 3.57659 -3.91532C3.18804 -4.30386 2.68991 -4.46326 2.21171 -4.46326C1.39477 -4.46326 0.707347 -3.99502 0.707347 -3.33748C0.707347 -3.03861 0.9066 -2.86924 1.16563 -2.86924C1.44458 -2.86924 1.62391 -3.06849 1.62391 -3.32752C1.62391 -3.44707 1.5741 -3.77584 1.11582 -3.7858C1.38481 -4.1345 1.87298 -4.24408 2.19178 -4.24408C2.67995 -4.24408 3.24782 -3.85554 3.24782 -2.96887L3.24782 -2.60025C2.73973 -2.57036 2.04234 -2.54047 1.41469 -2.24159C0.667497 -1.90286 0.418431 -1.38481 0.418431 -0.946451C0.418431 -0.139477 1.38481 0.109589 2.01245 0.109589C2.66999 0.109589 3.12827 -0.288917 3.31756 -0.757161ZM3.31756 -0.757161M3.24782 -2.39103L3.24782 -1.39477C3.24782 -0.448319 2.53051 -0.109589 2.08219 -0.109589C1.59402 -0.109589 1.18555 -0.458281 1.18555 -0.956413C1.18555 -1.50436 1.60399 -2.33126 3.24782 -2.39103ZM3.24782 -2.39103\" fill=\"black\"/>\n </g>\n <path d=\"M0 -28.3465L0 -56.6929\" stroke=\"black\"/>\n <path d=\"M28.3465 -28.3465L28.3465 -56.6929\" stroke=\"black\"/>\n <path d=\"M2.83465 -42.5197L2.83464 -42.5246A2.83465 2.83465 0 0 0 -2.83465 -42.5197A2.83465 2.83465 0 0 0 2.83464 -42.5147Z\" fill=\"black\"/>\n <path d=\"M-14.1732 -28.3465L-4.44437 -38.0753\" stroke=\"black\"/>\n <g stroke-linecap=\"butt\" stroke-dasharray=\"none\">\n  <path d=\"M-7.85661 -39.2654L0 -42.5197L-3.25432 -34.6631L-4.44437 -38.0753Z\" fill=\"black\"/>\n </g>\n <g transform=\"matrix(1.000000,0.000000,0.000000,1.000000,-17.007874,-31.181102)\">\n  <path d=\"M0.278954 -0M1.71357 -3.75592L1.71357 -6.91407L0.278954 -6.80448L0.278954 -6.49564C0.976339 -6.49564 1.05604 -6.4259 1.05604 -5.93773L1.05604 -0L1.30511 -0C1.31507 -0.00996264 1.39477 -0.14944 1.66376 -0.617684C1.8132 -0.388543 2.23163 0.109589 2.96887 0.109589C4.15442 0.109589 5.19054 -0.86675 5.19054 -2.15193C5.19054 -3.41719 4.2142 -4.40349 3.07846 -4.40349C2.30137 -4.40349 1.87298 -3.93524 1.71357 -3.75592ZM1.71357 -3.75592M1.74346 -1.13574L1.74346 -3.18804C1.74346 -3.37733 1.74346 -3.3873 1.85305 -3.5467C2.24159 -4.10461 2.78954 -4.18431 3.02864 -4.18431C3.47696 -4.18431 3.83562 -3.92528 4.07472 -3.5467C4.33375 -3.13823 4.36364 -2.57036 4.36364 -2.16189C4.36364 -1.79328 4.34371 -1.19552 4.05479 -0.747198C3.84558 -0.438356 3.467 -0.109589 2.92902 -0.109589C2.4807 -0.109589 2.12204 -0.348692 1.88294 -0.71731C1.74346 -0.926526 1.74346 -0.956413 1.74346 -1.13574ZM1.74346 -1.13574\" fill=\"black\"/>\n </g>\n <path d=\"M0 -56.6929L0 -85.0394\" stroke=\"black\"/>\n <path d=\"M28.3465 -56.6929L28.3465 -85.0394\" stroke=\"black\"/>\n <path d=\"M31.1811 -70.8661L31.1811 -70.8711A2.83465 2.83465 0 0 0 25.5118 -70.8661A2.83465 2.83465 0 0 0 31.1811 -70.8612Z\" fill=\"black\"/>\n <path d=\"M28.3465 -70.8661L38.0753 -80.595\" stroke=\"black\"/>\n <g stroke-linecap=\"butt\" stroke-dasharray=\"none\">\n  <path d=\"M34.6631 -81.7851L42.5197 -85.0394L39.2654 -77.1828L38.0753 -80.595Z\" fill=\"black\"/>\n </g>\n <g transform=\"matrix(1.000000,0.000000,0.000000,1.000000,39.685039,-70.866142)\">\n  <path d=\"M0.33873 -0M1.16563 -2.17186C1.16563 -3.79577 1.98257 -4.2142 2.51059 -4.2142C2.60025 -4.2142 3.2279 -4.20423 3.57659 -3.84558C3.16812 -3.81569 3.10834 -3.51681 3.10834 -3.3873C3.10834 -3.12827 3.28767 -2.92902 3.56663 -2.92902C3.82565 -2.92902 4.02491 -3.09838 4.02491 -3.39726C4.02491 -4.07472 3.26775 -4.46326 2.50062 -4.46326C1.25529 -4.46326 0.33873 -3.3873 0.33873 -2.15193C0.33873 -0.876712 1.32503 0.109589 2.4807 0.109589C3.81569 0.109589 4.1345 -1.08593 4.1345 -1.18555C4.1345 -1.28518 4.03487 -1.28518 4.00498 -1.28518C3.91532 -1.28518 3.89539 -1.24533 3.87547 -1.18555C3.58655 -0.259029 2.93898 -0.139477 2.57036 -0.139477C2.04234 -0.139477 1.16563 -0.56787 1.16563 -2.17186ZM1.16563 -2.17186\" fill=\"black\"/>\n </g>\n</svg>\n",
      "image/png": "[encoded data removed]"
     },
     "metadata": {},
     "output_type": "display_data"
    },
    {
     "data": {
      "text/plain": "<pyx.canvas.canvas at 0x7f976cff5d00>",
      "image/svg+xml": "<?xml version=\"1.0\" encoding=\"utf-8\"?>\n<svg xmlns=\"http://www.w3.org/2000/svg\" fill=\"none\" version=\"1.1\" viewBox=\"-18.0079 -86.0394 64.2277 87.0394\" x=\"-18.0079pt\" y=\"-86.0394pt\" width=\"64.2277pt\" height=\"87.0394pt\" stroke-width=\"0.566929\" stroke-miterlimit=\"10.000000\">\n <path d=\"M0 -0L0 -28.3465\" stroke=\"black\"/>\n <path d=\"M28.3465 -0L28.3465 -28.3465\" stroke=\"black\"/>\n <path d=\"M31.1811 -14.1732L31.1811 -14.1782A2.83465 2.83465 0 0 0 25.5118 -14.1732A2.83465 2.83465 0 0 0 31.1811 -14.1683Z\" fill=\"black\"/>\n <path d=\"M42.5197 -0L32.7908 -9.72886\" stroke=\"black\"/>\n <g stroke-linecap=\"butt\" stroke-dasharray=\"none\">\n  <path d=\"M31.6008 -6.31661L28.3465 -14.1732L36.2031 -10.9189L32.7908 -9.72886Z\" fill=\"black\"/>\n </g>\n <g transform=\"matrix(1.000000,0.000000,0.000000,1.000000,39.685039,-2.834646)\">\n  <path d=\"M0.418431 -0M3.31756 -0.757161C3.35741 -0.358655 3.6264 0.0597758 4.09465 0.0597758C4.30386 0.0597758 4.91158 -0.0797011 4.91158 -0.886675L4.91158 -1.44458L4.66252 -1.44458L4.66252 -0.886675C4.66252 -0.308842 4.41345 -0.249066 4.30386 -0.249066C3.97509 -0.249066 3.93524 -0.697385 3.93524 -0.747198L3.93524 -2.73973C3.93524 -3.15816 3.93524 -3.5467 3.57659 -3.91532C3.18804 -4.30386 2.68991 -4.46326 2.21171 -4.46326C1.39477 -4.46326 0.707347 -3.99502 0.707347 -3.33748C0.707347 -3.03861 0.9066 -2.86924 1.16563 -2.86924C1.44458 -2.86924 1.62391 -3.06849 1.62391 -3.32752C1.62391 -3.44707 1.5741 -3.77584 1.11582 -3.7858C1.38481 -4.1345 1.87298 -4.24408 2.19178 -4.24408C2.67995 -4.24408 3.24782 -3.85554 3.24782 -2.96887L3.24782 -2.60025C2.73973 -2.57036 2.04234 -2.54047 1.41469 -2.24159C0.667497 -1.90286 0.418431 -1.38481 0.418431 -0.946451C0.418431 -0.139477 1.38481 0.109589 2.01245 0.109589C2.66999 0.109589 3.12827 -0.288917 3.31756 -0.757161ZM3.31756 -0.757161M3.24782 -2.39103L3.24782 -1.39477C3.24782 -0.448319 2.53051 -0.109589 2.08219 -0.109589C1.59402 -0.109589 1.18555 -0.458281 1.18555 -0.956413C1.18555 -1.50436 1.60399 -2.33126 3.24782 -2.39103ZM3.24782 -2.39103\" fill=\"black\"/>\n </g>\n <path d=\"M0 -28.3465L0 -56.6929\" stroke=\"black\"/>\n <path d=\"M28.3465 -28.3465L28.3465 -56.6929\" stroke=\"black\"/>\n <path d=\"M31.1811 -42.5197L31.1811 -42.5246A2.83465 2.83465 0 0 0 25.5118 -42.5197A2.83465 2.83465 0 0 0 31.1811 -42.5147Z\" fill=\"black\"/>\n <path d=\"M28.3465 -42.5197L38.0753 -52.2485\" stroke=\"black\"/>\n <g stroke-linecap=\"butt\" stroke-dasharray=\"none\">\n  <path d=\"M34.6631 -53.4386L42.5197 -56.6929L39.2654 -48.8363L38.0753 -52.2485Z\" fill=\"black\"/>\n </g>\n <g transform=\"matrix(1.000000,0.000000,0.000000,1.000000,39.685039,-42.519685)\">\n  <path d=\"M0.278954 -0M1.71357 -3.75592L1.71357 -6.91407L0.278954 -6.80448L0.278954 -6.49564C0.976339 -6.49564 1.05604 -6.4259 1.05604 -5.93773L1.05604 -0L1.30511 -0C1.31507 -0.00996264 1.39477 -0.14944 1.66376 -0.617684C1.8132 -0.388543 2.23163 0.109589 2.96887 0.109589C4.15442 0.109589 5.19054 -0.86675 5.19054 -2.15193C5.19054 -3.41719 4.2142 -4.40349 3.07846 -4.40349C2.30137 -4.40349 1.87298 -3.93524 1.71357 -3.75592ZM1.71357 -3.75592M1.74346 -1.13574L1.74346 -3.18804C1.74346 -3.37733 1.74346 -3.3873 1.85305 -3.5467C2.24159 -4.10461 2.78954 -4.18431 3.02864 -4.18431C3.47696 -4.18431 3.83562 -3.92528 4.07472 -3.5467C4.33375 -3.13823 4.36364 -2.57036 4.36364 -2.16189C4.36364 -1.79328 4.34371 -1.19552 4.05479 -0.747198C3.84558 -0.438356 3.467 -0.109589 2.92902 -0.109589C2.4807 -0.109589 2.12204 -0.348692 1.88294 -0.71731C1.74346 -0.926526 1.74346 -0.956413 1.74346 -1.13574ZM1.74346 -1.13574\" fill=\"black\"/>\n </g>\n <path d=\"M0 -56.6929L0 -85.0394\" stroke=\"black\"/>\n <path d=\"M28.3465 -56.6929L28.3465 -85.0394\" stroke=\"black\"/>\n <path d=\"M2.83465 -70.8661L2.83464 -70.8711A2.83465 2.83465 0 0 0 -2.83465 -70.8661A2.83465 2.83465 0 0 0 2.83464 -70.8612Z\" fill=\"black\"/>\n <path d=\"M-14.1732 -56.6929L-4.44437 -66.4218\" stroke=\"black\"/>\n <g stroke-linecap=\"butt\" stroke-dasharray=\"none\">\n  <path d=\"M-7.85661 -67.6118L0 -70.8661L-3.25432 -63.0095L-4.44437 -66.4218Z\" fill=\"black\"/>\n </g>\n <g transform=\"matrix(1.000000,0.000000,0.000000,1.000000,-17.007874,-59.527559)\">\n  <path d=\"M0.33873 -0M1.16563 -2.17186C1.16563 -3.79577 1.98257 -4.2142 2.51059 -4.2142C2.60025 -4.2142 3.2279 -4.20423 3.57659 -3.84558C3.16812 -3.81569 3.10834 -3.51681 3.10834 -3.3873C3.10834 -3.12827 3.28767 -2.92902 3.56663 -2.92902C3.82565 -2.92902 4.02491 -3.09838 4.02491 -3.39726C4.02491 -4.07472 3.26775 -4.46326 2.50062 -4.46326C1.25529 -4.46326 0.33873 -3.3873 0.33873 -2.15193C0.33873 -0.876712 1.32503 0.109589 2.4807 0.109589C3.81569 0.109589 4.1345 -1.08593 4.1345 -1.18555C4.1345 -1.28518 4.03487 -1.28518 4.00498 -1.28518C3.91532 -1.28518 3.89539 -1.24533 3.87547 -1.18555C3.58655 -0.259029 2.93898 -0.139477 2.57036 -0.139477C2.04234 -0.139477 1.16563 -0.56787 1.16563 -2.17186ZM1.16563 -2.17186\" fill=\"black\"/>\n </g>\n</svg>\n",
      "image/png": "[encoded data removed]"
     },
     "metadata": {},
     "output_type": "display_data"
    },
    {
     "data": {
      "text/plain": "<pyx.canvas.canvas at 0x7f976cff5a00>",
      "image/svg+xml": "<?xml version=\"1.0\" encoding=\"utf-8\"?>\n<svg xmlns=\"http://www.w3.org/2000/svg\" fill=\"none\" version=\"1.1\" viewBox=\"-18.0079 -86.0394 63.6743 87.0394\" x=\"-18.0079pt\" y=\"-86.0394pt\" width=\"63.6743pt\" height=\"87.0394pt\" stroke-width=\"0.566929\" stroke-miterlimit=\"10.000000\">\n <path d=\"M0 -0L0 -28.3465\" stroke=\"black\"/>\n <path d=\"M28.3465 -0L28.3465 -28.3465\" stroke=\"black\"/>\n <path d=\"M31.1811 -14.1732L31.1811 -14.1782A2.83465 2.83465 0 0 0 25.5118 -14.1732A2.83465 2.83465 0 0 0 31.1811 -14.1683Z\" fill=\"black\"/>\n <path d=\"M42.5197 -0L32.7908 -9.72886\" stroke=\"black\"/>\n <g stroke-linecap=\"butt\" stroke-dasharray=\"none\">\n  <path d=\"M31.6008 -6.31661L28.3465 -14.1732L36.2031 -10.9189L32.7908 -9.72886Z\" fill=\"black\"/>\n </g>\n <g transform=\"matrix(1.000000,0.000000,0.000000,1.000000,39.685039,-2.834646)\">\n  <path d=\"M0.418431 -0M3.31756 -0.757161C3.35741 -0.358655 3.6264 0.0597758 4.09465 0.0597758C4.30386 0.0597758 4.91158 -0.0797011 4.91158 -0.886675L4.91158 -1.44458L4.66252 -1.44458L4.66252 -0.886675C4.66252 -0.308842 4.41345 -0.249066 4.30386 -0.249066C3.97509 -0.249066 3.93524 -0.697385 3.93524 -0.747198L3.93524 -2.73973C3.93524 -3.15816 3.93524 -3.5467 3.57659 -3.91532C3.18804 -4.30386 2.68991 -4.46326 2.21171 -4.46326C1.39477 -4.46326 0.707347 -3.99502 0.707347 -3.33748C0.707347 -3.03861 0.9066 -2.86924 1.16563 -2.86924C1.44458 -2.86924 1.62391 -3.06849 1.62391 -3.32752C1.62391 -3.44707 1.5741 -3.77584 1.11582 -3.7858C1.38481 -4.1345 1.87298 -4.24408 2.19178 -4.24408C2.67995 -4.24408 3.24782 -3.85554 3.24782 -2.96887L3.24782 -2.60025C2.73973 -2.57036 2.04234 -2.54047 1.41469 -2.24159C0.667497 -1.90286 0.418431 -1.38481 0.418431 -0.946451C0.418431 -0.139477 1.38481 0.109589 2.01245 0.109589C2.66999 0.109589 3.12827 -0.288917 3.31756 -0.757161ZM3.31756 -0.757161M3.24782 -2.39103L3.24782 -1.39477C3.24782 -0.448319 2.53051 -0.109589 2.08219 -0.109589C1.59402 -0.109589 1.18555 -0.458281 1.18555 -0.956413C1.18555 -1.50436 1.60399 -2.33126 3.24782 -2.39103ZM3.24782 -2.39103\" fill=\"black\"/>\n </g>\n <path d=\"M0 -28.3465L0 -56.6929\" stroke=\"black\"/>\n <path d=\"M28.3465 -28.3465L28.3465 -56.6929\" stroke=\"black\"/>\n <path d=\"M2.83465 -42.5197L2.83464 -42.5246A2.83465 2.83465 0 0 0 -2.83465 -42.5197A2.83465 2.83465 0 0 0 2.83464 -42.5147Z\" fill=\"black\"/>\n <path d=\"M-14.1732 -28.3465L-4.44437 -38.0753\" stroke=\"black\"/>\n <g stroke-linecap=\"butt\" stroke-dasharray=\"none\">\n  <path d=\"M-7.85661 -39.2654L0 -42.5197L-3.25432 -34.6631L-4.44437 -38.0753Z\" fill=\"black\"/>\n </g>\n <g transform=\"matrix(1.000000,0.000000,0.000000,1.000000,-17.007874,-31.181102)\">\n  <path d=\"M0.278954 -0M1.71357 -3.75592L1.71357 -6.91407L0.278954 -6.80448L0.278954 -6.49564C0.976339 -6.49564 1.05604 -6.4259 1.05604 -5.93773L1.05604 -0L1.30511 -0C1.31507 -0.00996264 1.39477 -0.14944 1.66376 -0.617684C1.8132 -0.388543 2.23163 0.109589 2.96887 0.109589C4.15442 0.109589 5.19054 -0.86675 5.19054 -2.15193C5.19054 -3.41719 4.2142 -4.40349 3.07846 -4.40349C2.30137 -4.40349 1.87298 -3.93524 1.71357 -3.75592ZM1.71357 -3.75592M1.74346 -1.13574L1.74346 -3.18804C1.74346 -3.37733 1.74346 -3.3873 1.85305 -3.5467C2.24159 -4.10461 2.78954 -4.18431 3.02864 -4.18431C3.47696 -4.18431 3.83562 -3.92528 4.07472 -3.5467C4.33375 -3.13823 4.36364 -2.57036 4.36364 -2.16189C4.36364 -1.79328 4.34371 -1.19552 4.05479 -0.747198C3.84558 -0.438356 3.467 -0.109589 2.92902 -0.109589C2.4807 -0.109589 2.12204 -0.348692 1.88294 -0.71731C1.74346 -0.926526 1.74346 -0.956413 1.74346 -1.13574ZM1.74346 -1.13574\" fill=\"black\"/>\n </g>\n <path d=\"M0 -56.6929L0 -85.0394\" stroke=\"black\"/>\n <path d=\"M28.3465 -56.6929L28.3465 -85.0394\" stroke=\"black\"/>\n <path d=\"M2.83465 -70.8661L2.83464 -70.8711A2.83465 2.83465 0 0 0 -2.83465 -70.8661A2.83465 2.83465 0 0 0 2.83464 -70.8612Z\" fill=\"black\"/>\n <path d=\"M-14.1732 -56.6929L-4.44437 -66.4218\" stroke=\"black\"/>\n <g stroke-linecap=\"butt\" stroke-dasharray=\"none\">\n  <path d=\"M-7.85661 -67.6118L0 -70.8661L-3.25432 -63.0095L-4.44437 -66.4218Z\" fill=\"black\"/>\n </g>\n <g transform=\"matrix(1.000000,0.000000,0.000000,1.000000,-17.007874,-59.527559)\">\n  <path d=\"M0.33873 -0M1.16563 -2.17186C1.16563 -3.79577 1.98257 -4.2142 2.51059 -4.2142C2.60025 -4.2142 3.2279 -4.20423 3.57659 -3.84558C3.16812 -3.81569 3.10834 -3.51681 3.10834 -3.3873C3.10834 -3.12827 3.28767 -2.92902 3.56663 -2.92902C3.82565 -2.92902 4.02491 -3.09838 4.02491 -3.39726C4.02491 -4.07472 3.26775 -4.46326 2.50062 -4.46326C1.25529 -4.46326 0.33873 -3.3873 0.33873 -2.15193C0.33873 -0.876712 1.32503 0.109589 2.4807 0.109589C3.81569 0.109589 4.1345 -1.08593 4.1345 -1.18555C4.1345 -1.28518 4.03487 -1.28518 4.00498 -1.28518C3.91532 -1.28518 3.89539 -1.24533 3.87547 -1.18555C3.58655 -0.259029 2.93898 -0.139477 2.57036 -0.139477C2.04234 -0.139477 1.16563 -0.56787 1.16563 -2.17186ZM1.16563 -2.17186\" fill=\"black\"/>\n </g>\n</svg>\n",
      "image/png": "[encoded data removed]"
     },
     "metadata": {},
     "output_type": "display_data"
    }
   ],
   "source": [
    "# DiagramGenerator class, or DG for short\n",
    "DG = ufss.DiagramGenerator\n",
    "# initialize the module\n",
    "R3rd = DG()  # DG takes a single key-word argument, which has the default value detection_type = 'polarization'\n",
    "# DiagramAutomation needs to know the phase-matching/-cycling condition\n",
    "R3rd.set_phase_discrimination([(0, 1), (1, 0), (1, 0)])  # setting condition for rephasing diagrams R1,2,3\n",
    "# Set the pulse durations for pulses 0,1,2 and the local oscillator\n",
    "d0 = 2\n",
    "d1 = 4\n",
    "d2 = 4\n",
    "dlo = 6\n",
    "# Set the pulse intervals\n",
    "t0 = np.array([-d0 / 2, d0 / 2])\n",
    "t1 = np.array([-d1 / 2, d1 / 2])\n",
    "t2 = np.array([-d2 / 2, d2 / 2])\n",
    "tlo = np.array([-dlo / 2, dlo / 2])\n",
    "all_pulse_intervals = [t0, t1, t2, tlo]\n",
    "\n",
    "# These pulse intervals are given to DG by setting DG's efield_times attribute\n",
    "R3rd.efield_times = all_pulse_intervals\n",
    "time_ordered_diagrams_rephasing = R3rd.get_diagrams([0, 100, 200, 200])\n",
    "[R3, R1, R2] = time_ordered_diagrams_rephasing\n",
    "rephasing = [R1, R2, R3]\n",
    "print('the rephasing diagrams are R1, R2 and R3 ')\n",
    "R3rd.display_diagrams(rephasing)"
   ],
   "metadata": {
    "collapsed": false,
    "pycharm": {
     "name": "#%%\n"
    }
   }
  },
  {
   "cell_type": "code",
   "execution_count": 24,
   "outputs": [
    {
     "name": "stdout",
     "output_type": "stream",
     "text": [
      "(('Bu', 0), ('Ku', 1), ('Bd', 2))\n"
     ]
    }
   ],
   "source": [
    "print(R1)"
   ],
   "metadata": {
    "collapsed": false,
    "pycharm": {
     "name": "#%%\n"
    }
   }
  },
  {
   "cell_type": "code",
   "execution_count": 26,
   "outputs": [
    {
     "data": {
      "text/plain": "(('Bu', 0), ('Ku', 1), ('Bd', 2))"
     },
     "execution_count": 26,
     "metadata": {},
     "output_type": "execute_result"
    }
   ],
   "source": [
    "Rtest = (('Bu', 0), ('Ku', 1), ('Bd', 2))\n",
    "Rtest"
   ],
   "metadata": {
    "collapsed": false,
    "pycharm": {
     "name": "#%%\n"
    }
   }
  },
  {
   "cell_type": "code",
   "execution_count": 24,
   "outputs": [
    {
     "name": "stdout",
     "output_type": "stream",
     "text": [
      "0\n",
      "1\n",
      "2\n"
     ]
    }
   ],
   "source": [
    "for x in R1:\n",
    "    print(x[1])"
   ],
   "metadata": {
    "collapsed": false,
    "pycharm": {
     "name": "#%%\n"
    }
   }
  },
  {
   "cell_type": "code",
   "execution_count": 62,
   "outputs": [],
   "source": [
    "def fac(x):\n",
    "    if x==1:\n",
    "        return 1\n",
    "    else:\n",
    "        return x*fac(x-1)\n",
    "\n",
    "def fib(x):\n",
    "    if x<=2:\n",
    "        return(x)\n",
    "    else:\n",
    "        return x+fib(x-1)"
   ],
   "metadata": {
    "collapsed": false,
    "pycharm": {
     "name": "#%%\n"
    }
   }
  },
  {
   "cell_type": "code",
   "execution_count": 66,
   "outputs": [
    {
     "data": {
      "text/plain": "9"
     },
     "execution_count": 66,
     "metadata": {},
     "output_type": "execute_result"
    }
   ],
   "source": [
    "fib(4)"
   ],
   "metadata": {
    "collapsed": false,
    "pycharm": {
     "name": "#%%\n"
    }
   }
  },
  {
   "cell_type": "code",
   "execution_count": 59,
   "outputs": [
    {
     "data": {
      "text/plain": "120"
     },
     "execution_count": 59,
     "metadata": {},
     "output_type": "execute_result"
    }
   ],
   "source": [
    "fac(5)"
   ],
   "metadata": {
    "collapsed": false,
    "pycharm": {
     "name": "#%%\n"
    }
   }
  },
  {
   "cell_type": "code",
   "execution_count": 95,
   "outputs": [
    {
     "data": {
      "text/plain": "'cdefa'"
     },
     "execution_count": 95,
     "metadata": {},
     "output_type": "execute_result"
    }
   ],
   "source": [
    "a = 'abcdefa'\n",
    "a[2:]"
   ],
   "metadata": {
    "collapsed": false,
    "pycharm": {
     "name": "#%%\n"
    }
   }
  },
  {
   "cell_type": "code",
   "execution_count": 72,
   "outputs": [
    {
     "data": {
      "text/plain": "True"
     },
     "execution_count": 72,
     "metadata": {},
     "output_type": "execute_result"
    }
   ],
   "source": [
    "a[0]==a[-1]"
   ],
   "metadata": {
    "collapsed": false,
    "pycharm": {
     "name": "#%%\n"
    }
   }
  },
  {
   "cell_type": "code",
   "execution_count": 2,
   "outputs": [
    {
     "data": {
      "text/plain": "'121'"
     },
     "execution_count": 2,
     "metadata": {},
     "output_type": "execute_result"
    }
   ],
   "source": [
    "str(121)"
   ],
   "metadata": {
    "collapsed": false,
    "pycharm": {
     "name": "#%%\n"
    }
   }
  },
  {
   "cell_type": "code",
   "execution_count": 4,
   "outputs": [],
   "source": [
    "def plan(x):\n",
    "    if len(x)<=1:\n",
    "        return True\n",
    "    elif x[0]==x[-1]:\n",
    "        return plan(x[1:-1])\n",
    "    else:\n",
    "        return False"
   ],
   "metadata": {
    "collapsed": false,
    "pycharm": {
     "name": "#%%\n"
    }
   }
  },
  {
   "cell_type": "code",
   "execution_count": 8,
   "outputs": [
    {
     "data": {
      "text/plain": "'42'"
     },
     "execution_count": 8,
     "metadata": {},
     "output_type": "execute_result"
    }
   ],
   "source": [
    "s = \"   -42\"\n",
    "s2 = s[4:]\n",
    "s2[0:2]"
   ],
   "metadata": {
    "collapsed": false,
    "pycharm": {
     "name": "#%%\n"
    }
   }
  },
  {
   "cell_type": "code",
   "execution_count": 12,
   "outputs": [
    {
     "data": {
      "text/plain": "95578439627"
     },
     "execution_count": 12,
     "metadata": {},
     "output_type": "execute_result"
    }
   ],
   "source": [
    "91283472332+(2**32-1)"
   ],
   "metadata": {
    "collapsed": false,
    "pycharm": {
     "name": "#%%\n"
    }
   }
  },
  {
   "cell_type": "code",
   "execution_count": 117,
   "outputs": [
    {
     "name": "stdout",
     "output_type": "stream",
     "text": [
      "[0, 1, 2, 3, 4]\n",
      "[5, 6, 7, 8, 9]\n"
     ]
    }
   ],
   "source": [
    "l = [0,1,2,3,4,5,6,7,8,9]\n",
    "m = len(l)//2\n",
    "print(l[:m])\n",
    "print(l[m:])\n"
   ],
   "metadata": {
    "collapsed": false,
    "pycharm": {
     "name": "#%%\n"
    }
   }
  },
  {
   "cell_type": "code",
   "execution_count": 13,
   "outputs": [
    {
     "data": {
      "text/plain": "2.3"
     },
     "execution_count": 13,
     "metadata": {},
     "output_type": "execute_result"
    }
   ],
   "source": [
    "float('2.3')"
   ],
   "metadata": {
    "collapsed": false,
    "pycharm": {
     "name": "#%%\n"
    }
   }
  },
  {
   "cell_type": "code",
   "execution_count": 131,
   "outputs": [
    {
     "ename": "NameError",
     "evalue": "name 'sort' is not defined",
     "output_type": "error",
     "traceback": [
      "\u001B[0;31m---------------------------------------------------------------------------\u001B[0m",
      "\u001B[0;31mNameError\u001B[0m                                 Traceback (most recent call last)",
      "\u001B[0;32m<ipython-input-131-898902b22c39>\u001B[0m in \u001B[0;36m<module>\u001B[0;34m\u001B[0m\n\u001B[1;32m      1\u001B[0m \u001B[0mm\u001B[0m \u001B[0;34m=\u001B[0m \u001B[0;34m[\u001B[0m\u001B[0;36m2\u001B[0m\u001B[0;34m,\u001B[0m\u001B[0;36m3\u001B[0m\u001B[0;34m,\u001B[0m\u001B[0;36m1\u001B[0m\u001B[0;34m,\u001B[0m\u001B[0;36m5\u001B[0m\u001B[0;34m,\u001B[0m\u001B[0;36m4\u001B[0m\u001B[0;34m]\u001B[0m\u001B[0;34m\u001B[0m\u001B[0;34m\u001B[0m\u001B[0m\n\u001B[1;32m      2\u001B[0m \u001B[0mn\u001B[0m \u001B[0;34m=\u001B[0m \u001B[0mrange\u001B[0m\u001B[0;34m(\u001B[0m\u001B[0mlen\u001B[0m\u001B[0;34m(\u001B[0m\u001B[0mm\u001B[0m\u001B[0;34m)\u001B[0m\u001B[0;34m)\u001B[0m\u001B[0;34m\u001B[0m\u001B[0;34m\u001B[0m\u001B[0m\n\u001B[0;32m----> 3\u001B[0;31m \u001B[0;32mfor\u001B[0m \u001B[0mval\u001B[0m\u001B[0;34m,\u001B[0m\u001B[0mind\u001B[0m \u001B[0;32min\u001B[0m \u001B[0msort\u001B[0m\u001B[0;34m(\u001B[0m\u001B[0mzip\u001B[0m\u001B[0;34m(\u001B[0m\u001B[0mm\u001B[0m\u001B[0;34m,\u001B[0m\u001B[0mn\u001B[0m\u001B[0;34m)\u001B[0m\u001B[0;34m)\u001B[0m\u001B[0;34m:\u001B[0m\u001B[0;34m\u001B[0m\u001B[0;34m\u001B[0m\u001B[0m\n\u001B[0m\u001B[1;32m      4\u001B[0m     \u001B[0mprint\u001B[0m\u001B[0;34m(\u001B[0m\u001B[0mval\u001B[0m\u001B[0;34m,\u001B[0m\u001B[0mind\u001B[0m\u001B[0;34m)\u001B[0m\u001B[0;34m\u001B[0m\u001B[0;34m\u001B[0m\u001B[0m\n",
      "\u001B[0;31mNameError\u001B[0m: name 'sort' is not defined"
     ]
    }
   ],
   "source": [
    "m = [2,3,1,5,4]\n",
    "n = range(len(m))\n",
    "for val,ind in sort(zip(m,n)):\n",
    "    print(val,ind)"
   ],
   "metadata": {
    "collapsed": false,
    "pycharm": {
     "name": "#%%\n"
    }
   }
  },
  {
   "cell_type": "code",
   "execution_count": 115,
   "outputs": [
    {
     "name": "stdout",
     "output_type": "stream",
     "text": [
      "[1, 2]\n",
      "[2, 1]\n"
     ]
    }
   ],
   "source": [
    "l = [1,2,2,1]\n",
    "m = len(l)//2\n",
    "print(l[:m])\n",
    "m += len(l)%2\n",
    "print(l[m:])"
   ],
   "metadata": {
    "collapsed": false,
    "pycharm": {
     "name": "#%%\n"
    }
   }
  },
  {
   "cell_type": "code",
   "execution_count": 168,
   "outputs": [],
   "source": [
    "l1 = [1,2,1]\n",
    "l2 = [1,3,1]\n",
    "for x,y in zip(l1,l2):\n",
    "    s = x+y\n",
    "    if s>=10:\n",
    "        c = 1\n",
    "        s = s%10\n"
   ],
   "metadata": {
    "collapsed": false,
    "pycharm": {
     "name": "#%%\n"
    }
   }
  },
  {
   "cell_type": "code",
   "execution_count": 171,
   "outputs": [
    {
     "data": {
      "text/plain": "False"
     },
     "execution_count": 171,
     "metadata": {},
     "output_type": "execute_result"
    }
   ],
   "source": [],
   "metadata": {
    "collapsed": false,
    "pycharm": {
     "name": "#%%\n"
    }
   }
  },
  {
   "cell_type": "code",
   "execution_count": 165,
   "outputs": [
    {
     "name": "stdout",
     "output_type": "stream",
     "text": [
      "5 0\n"
     ]
    }
   ],
   "source": [
    "l =[-1,2,3,5,8,10]\n",
    "d = dict()\n",
    "for i,v in enumerate(l):\n",
    "    if d.get(str(9-v),'not_found')!='not_found':\n",
    "        print(i,d.get(str(9-v), 'some index'))\n",
    "        break\n",
    "    else:\n",
    "        d[str(v)] = i"
   ],
   "metadata": {
    "collapsed": false,
    "pycharm": {
     "name": "#%%\n"
    }
   }
  },
  {
   "cell_type": "code",
   "execution_count": 175,
   "outputs": [
    {
     "data": {
      "text/plain": "[1, 3, 4]"
     },
     "execution_count": 175,
     "metadata": {},
     "output_type": "execute_result"
    }
   ],
   "source": [
    "l = [1,3,4,2,5]\n",
    "l[3-3:3]"
   ],
   "metadata": {
    "collapsed": false,
    "pycharm": {
     "name": "#%%\n"
    }
   }
  },
  {
   "cell_type": "code",
   "execution_count": 89,
   "outputs": [],
   "source": [
    "def sumNumber(x):\n",
    "    if x<10:\n",
    "        return x\n",
    "    else:\n",
    "        return x%10+sumNumber(int(x/10))"
   ],
   "metadata": {
    "collapsed": false,
    "pycharm": {
     "name": "#%%\n"
    }
   }
  },
  {
   "cell_type": "code",
   "execution_count": 90,
   "outputs": [
    {
     "data": {
      "text/plain": "19"
     },
     "execution_count": 90,
     "metadata": {},
     "output_type": "execute_result"
    }
   ],
   "source": [
    "sumNumber(144523)"
   ],
   "metadata": {
    "collapsed": false,
    "pycharm": {
     "name": "#%%\n"
    }
   }
  },
  {
   "cell_type": "code",
   "execution_count": 178,
   "outputs": [],
   "source": [
    "def lengthOfLongestSubstring(s):\n",
    "        l = 0\n",
    "        if len(s)==0:\n",
    "            return 0\n",
    "\n",
    "        for k in range(len(s)):\n",
    "            print('l', l, 'k', k, 's', s[k-l:k], 'next', s[k])\n",
    "            if s[k] not in s[k-l:k]:\n",
    "                l += 1\n",
    "        return l"
   ],
   "metadata": {
    "collapsed": false,
    "pycharm": {
     "name": "#%%\n"
    }
   }
  },
  {
   "cell_type": "code",
   "execution_count": 177,
   "outputs": [
    {
     "ename": "TypeError",
     "evalue": "lengthOfLongestSubstring() missing 1 required positional argument: 's'",
     "output_type": "error",
     "traceback": [
      "\u001B[0;31m---------------------------------------------------------------------------\u001B[0m",
      "\u001B[0;31mTypeError\u001B[0m                                 Traceback (most recent call last)",
      "\u001B[0;32m<ipython-input-177-4400fb836bde>\u001B[0m in \u001B[0;36m<module>\u001B[0;34m\u001B[0m\n\u001B[0;32m----> 1\u001B[0;31m \u001B[0mprint\u001B[0m\u001B[0;34m(\u001B[0m\u001B[0mlengthOfLongestSubstring\u001B[0m\u001B[0;34m(\u001B[0m\u001B[0;34m'pwwkew'\u001B[0m\u001B[0;34m)\u001B[0m\u001B[0;34m)\u001B[0m\u001B[0;34m\u001B[0m\u001B[0;34m\u001B[0m\u001B[0m\n\u001B[0m",
      "\u001B[0;31mTypeError\u001B[0m: lengthOfLongestSubstring() missing 1 required positional argument: 's'"
     ]
    }
   ],
   "source": [
    "print(lengthOfLongestSubstring('pwwkew'))"
   ],
   "metadata": {
    "collapsed": false,
    "pycharm": {
     "name": "#%%\n"
    }
   }
  },
  {
   "cell_type": "code",
   "execution_count": 100,
   "outputs": [
    {
     "data": {
      "text/plain": "[1, 2, 3, 5]"
     },
     "execution_count": 100,
     "metadata": {},
     "output_type": "execute_result"
    }
   ],
   "source": [
    "p = [1,2,3]\n",
    "p.append(5)\n",
    "p"
   ],
   "metadata": {
    "collapsed": false,
    "pycharm": {
     "name": "#%%\n"
    }
   }
  },
  {
   "cell_type": "code",
   "execution_count": null,
   "outputs": [],
   "source": [
    "def mergeSort(x):\n",
    "    if len(x)==1:\n",
    "        return x\n",
    "    else:\n",
    "        k = len(x)//2\n",
    "        m = mergeSort(x[:k])\n",
    "        n = mergeSort(x[k:])\n",
    "        p=[]\n",
    "        for a in m:\n",
    "            for b in n:\n",
    "                if ap.append()\n"
   ],
   "metadata": {
    "collapsed": false,
    "pycharm": {
     "name": "#%%\n"
    }
   }
  },
  {
   "cell_type": "code",
   "execution_count": 14,
   "outputs": [],
   "source": [
    "b = [1,2,3,4,5]\n",
    "a = []\n",
    "a.append(b)"
   ],
   "metadata": {
    "collapsed": false,
    "pycharm": {
     "name": "#%%\n"
    }
   }
  },
  {
   "cell_type": "code",
   "execution_count": 17,
   "outputs": [
    {
     "data": {
      "text/plain": "[[1, 2, 3, 4, 5]]"
     },
     "execution_count": 17,
     "metadata": {},
     "output_type": "execute_result"
    }
   ],
   "source": [
    "a"
   ],
   "metadata": {
    "collapsed": false,
    "pycharm": {
     "name": "#%%\n"
    }
   }
  },
  {
   "cell_type": "code",
   "execution_count": 18,
   "outputs": [
    {
     "data": {
      "text/plain": "[1, 2, 3, 4, 5]"
     },
     "execution_count": 18,
     "metadata": {},
     "output_type": "execute_result"
    }
   ],
   "source": [
    "a[0]"
   ],
   "metadata": {
    "collapsed": false,
    "pycharm": {
     "name": "#%%\n"
    }
   }
  },
  {
   "cell_type": "code",
   "execution_count": 20,
   "outputs": [
    {
     "name": "stdout",
     "output_type": "stream",
     "text": [
      "1\n",
      "2\n",
      "3\n",
      "4\n"
     ]
    }
   ],
   "source": [
    "for i in range(1, 5):\n",
    "    print(i)"
   ],
   "metadata": {
    "collapsed": false,
    "pycharm": {
     "name": "#%%\n"
    }
   }
  },
  {
   "cell_type": "code",
   "execution_count": 7,
   "outputs": [
    {
     "data": {
      "text/plain": "array([ 0.,  1.,  2.,  3.,  4.,  5.,  6.,  7.,  8.,  9., 10., 11., 12.,\n       13., 14., 15., 16., 17., 18., 19.])"
     },
     "execution_count": 7,
     "metadata": {},
     "output_type": "execute_result"
    }
   ],
   "source": [
    "t1 = np.linspace(0,10,10, False)\n",
    "t2 = np.linspace(10,20,10, False)\n",
    "np.append(t1,t2)"
   ],
   "metadata": {
    "collapsed": false,
    "pycharm": {
     "name": "#%%\n"
    }
   }
  },
  {
   "cell_type": "code",
   "execution_count": 8,
   "outputs": [
    {
     "data": {
      "text/plain": "array([ 0,  0, 10, 10, 10, 15, 15, 15, 30])"
     },
     "execution_count": 8,
     "metadata": {},
     "output_type": "execute_result"
    }
   ],
   "source": [
    "np.cumsum([0, 0, 10, 0, 0, 5, 0, 0, 15])"
   ],
   "metadata": {
    "collapsed": false,
    "pycharm": {
     "name": "#%%\n"
    }
   }
  },
  {
   "cell_type": "code",
   "execution_count": 10,
   "outputs": [
    {
     "data": {
      "text/plain": "30"
     },
     "execution_count": 10,
     "metadata": {},
     "output_type": "execute_result"
    }
   ],
   "source": [
    "np.sum([0, 0, 10, 0, 0, 5, 0, 0, 15])"
   ],
   "metadata": {
    "collapsed": false,
    "pycharm": {
     "name": "#%%\n"
    }
   }
  },
  {
   "cell_type": "code",
   "execution_count": 42,
   "outputs": [
    {
     "name": "stdout",
     "output_type": "stream",
     "text": [
      "hello world\n"
     ]
    }
   ],
   "source": [
    "import qudpy.plot_functions as qpf\n",
    "qpf.test()"
   ],
   "metadata": {
    "collapsed": false,
    "pycharm": {
     "name": "#%%\n"
    }
   }
  },
  {
   "cell_type": "code",
   "execution_count": null,
   "outputs": [],
   "source": [],
   "metadata": {
    "collapsed": false,
    "pycharm": {
     "name": "#%%\n"
    }
   }
  }
 ],
 "metadata": {
  "kernelspec": {
   "display_name": "Python 3",
   "language": "python",
   "name": "python3"
  },
  "language_info": {
   "codemirror_mode": {
    "name": "ipython",
    "version": 2
   },
   "file_extension": ".py",
   "mimetype": "text/x-python",
   "name": "python",
   "nbconvert_exporter": "python",
   "pygments_lexer": "ipython2",
   "version": "2.7.6"
  }
 },
 "nbformat": 4,
 "nbformat_minor": 0
}