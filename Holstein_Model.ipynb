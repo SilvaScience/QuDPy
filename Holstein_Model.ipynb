{
  "nbformat": 4,
  "nbformat_minor": 0,
  "metadata": {
    "colab": {
      "private_outputs": true,
      "provenance": [],
      "authorship_tag": "ABX9TyN2In+tK1PeQ6fsLUuAUyWd",
      "include_colab_link": true
    },
    "kernelspec": {
      "name": "python3",
      "display_name": "Python 3"
    },
    "language_info": {
      "name": "python"
    }
  },
  "cells": [
    {
      "cell_type": "markdown",
      "metadata": {
        "id": "view-in-github",
        "colab_type": "text"
      },
      "source": [
        "<a href=\"https://colab.research.google.com/github/sa-shah/QuDPy/blob/master/Holstein_Model.ipynb\" target=\"_parent\"><img src=\"https://colab.research.google.com/assets/colab-badge.svg\" alt=\"Open In Colab\"/></a>"
      ]
    },
    {
      "cell_type": "code",
      "execution_count": null,
      "metadata": {
        "id": "xJWdwi0pyBl8"
      },
      "outputs": [],
      "source": [
        "!pip install qudpy"
      ]
    },
    {
      "cell_type": "code",
      "source": [
        "from qutip import *  # for quantum dynamics\n",
        "import numpy as np  # for numerical manipulations\n",
        "from qudpy.Classes import *  # for nonlinear spectroscpy\n",
        "import qudpy.plot_functions as pf  # for plotting nonlinear spectra\n",
        "import matplotlib.pyplot as plt\n",
        "import ufss  # for double-sided diagram generation\n",
        "print('ok')"
      ],
      "metadata": {
        "id": "JgnvLQ9pyHNF"
      },
      "execution_count": null,
      "outputs": []
    },
    {
      "cell_type": "code",
      "source": [
        "# Generating the 3rd order double-sided diagrams for rephasing and non-rephasing response\n",
        "# in impulsive regime.\n",
        "\n",
        "DG = ufss.DiagramGenerator\n",
        "R3rd = DG()\n",
        "# setting condition for rephasing diagrams R1,2,3\n",
        "R3rd.set_phase_discrimination([(0, 1), (1, 0), (1, 0)])\n",
        "# Set the pulse interval\n",
        "t_pulse = np.array([-1, 1])\n",
        "R3rd.efield_times = [t_pulse]*4\n",
        "# Creating diagrams for pulse arrival times 0, 100, 200 and detection time 300.\n",
        "[R3, R1, R2] = R3rd.get_diagrams([0, 100, 200, 300])\n",
        "rephasing = [R1, R2, R3]\n",
        "print('the rephasing diagrams are R1, R2 and R3 ', rephasing)\n",
        "\n",
        "# setting conditions for and generating non-rephasing diagrams R4, R5 and R6\n",
        "R3rd.set_phase_discrimination([(1, 0), (0, 1), (1, 0)])\n",
        "[R6, R4, R5] = R3rd.get_diagrams([0, 100, 200, 300])\n",
        "nonrephasing = [R4, R5, R6]\n",
        "print('the non-rephasing diagrams are R4, R5 and R6', nonrephasing)"
      ],
      "metadata": {
        "id": "rYTqxylVyJip"
      },
      "execution_count": null,
      "outputs": []
    },
    {
      "cell_type": "code",
      "source": [
        "# constructing the Hamiltonian\n",
        "hbar = 0.658211951  # in eV fs\n",
        "Ee = 2  # eV -> put in energy of a few thiophenes\n",
        "Ew = 0.2  # eV\n",
        "J = 0.02 # eV hopping term its positive so we have a H aggregate\n",
        "S = 1  # Huang-Rys factor\n",
        "N = 3 # number of sites\n",
        "n = 3 # number of phonon states for each site.\n",
        "\n",
        "mu = 1.0  # dipole strength. Same for all sites\n",
        "\n",
        "jz = jmat(1/2, 'z')\n",
        "jm = jmat(1/2, '-')\n",
        "jp = jmat(1/2, '+')\n",
        "\n",
        "sz1 = tensor(jz,qeye(2), qeye(2), qeye(n), qeye(n), qeye(n))\n",
        "sz2 = tensor(qeye(2),jz, qeye(2), qeye(n), qeye(n), qeye(n))\n",
        "sz3 = tensor(qeye(2),qeye(2), jz, qeye(n), qeye(n), qeye(n))\n",
        "a1 = tensor(qeye(2),qeye(2), qeye(2), destroy(n), qeye(n), qeye(n))\n",
        "a2 = tensor(qeye(2),qeye(2), qeye(2), qeye(n), destroy(n), qeye(n))\n",
        "a3 = tensor(qeye(2),qeye(2), qeye(2), qeye(n), qeye(n), destroy(n))\n",
        "sp1 = tensor(jp,qeye(2), qeye(2), qeye(n), qeye(n), qeye(n))\n",
        "sp2 = tensor(qeye(2), jp, qeye(2), qeye(n), qeye(n), qeye(n))\n",
        "sp3 = tensor(qeye(2),qeye(2), jp, qeye(n), qeye(n), qeye(n))\n",
        "sm1 = tensor(jm,qeye(2), qeye(2), qeye(n), qeye(n), qeye(n))\n",
        "sm2 = tensor(qeye(2), jm, qeye(2), qeye(n), qeye(n), qeye(n))\n",
        "sm3 = tensor(qeye(2),qeye(2), jm, qeye(n), qeye(n), qeye(n))\n",
        "\n",
        "H = sz1*(Ee/2 + Ew*(a1.dag()*a1+1/2) + S*(a1.dag()+a1))+ \\\n",
        "sz2*(Ee/2 + Ew*(a2.dag()*a2+1/2) + S*(a2.dag()+a2))+ \\\n",
        "sz3*(Ee/2 + Ew*(a3.dag()*a3+1/2) + S*(a3.dag()+a3))+ \\\n",
        "J*(sp1*sm2 + sp1*sm3 + sp2*sm3 + sm1*sp2 + sm1*sp3 + sm2*sp3) # coupling terms\n",
        "\n",
        "H = H/hbar\n",
        "\n",
        "\n",
        "A = sm1+sm2+sm3\n",
        "mu = A.dag()+A # dipole operator total"
      ],
      "metadata": {
        "id": "YgYHuHuWyUEM"
      },
      "execution_count": null,
      "outputs": []
    },
    {
      "cell_type": "code",
      "source": [
        "print(mu)"
      ],
      "metadata": {
        "id": "FhIGQiz_SLBH"
      },
      "execution_count": null,
      "outputs": []
    },
    {
      "cell_type": "code",
      "source": [
        "plt.figure()\n",
        "plt.imshow(np.real(mu.full()))\n",
        "plt.title('Total Dipole in initial basis')\n",
        "plt.colorbar()\n",
        "plt.show()"
      ],
      "metadata": {
        "id": "Wwp29KBDyUGm"
      },
      "execution_count": null,
      "outputs": []
    },
    {
      "cell_type": "code",
      "source": [
        "plt.figure()\n",
        "plt.imshow(np.real(H.full()))\n",
        "plt.title('Total Hamiltonian in initial basis')\n",
        "plt.colorbar()\n",
        "plt.show()"
      ],
      "metadata": {
        "id": "M9K8WWf9yUJr"
      },
      "execution_count": null,
      "outputs": []
    },
    {
      "cell_type": "code",
      "source": [
        "## SKIPPING THIS STEP FOR NOW\n",
        "\n",
        "# creating collapse operators using system-bath couplings\n",
        "kappa = 0.1  # internal relaxation\n",
        "kB = 8.617333262*1e-5  # Boltzmann constant eV/K\n",
        "T = 200  # temperature in K\n",
        "kT = T*kB\n",
        "beta = 1/kT\n",
        "n1 = 1/(np.exp(E1*beta)-1)  # <n1>, thermal populations of the uncoupled states\n",
        "n2 = 1/(np.exp(E2*beta)-1)  # <n2>, thermal populations of the uncoupled states\n",
        "n3 = 1/(np.exp(E3*beta)-1)  # <n3>, thermal populations of the uncoupled states\n",
        "c1 = np.sqrt(kappa*(n1+1))*a  # relaxation operators\n",
        "c2 = np.sqrt(kappa*(n2+1))*b  # relaxation operators\n",
        "c3 = np.sqrt(kappa*(n3+1))*c  # relaxation operators\n",
        "c4 = np.sqrt(kappa*n1)*a.dag()  # excitation operators\n",
        "c5 = np.sqrt(kappa*n2)*b.dag()  # excitation operators\n",
        "c6 = np.sqrt(kappa*n3)*c.dag()  # excitation operators\n",
        "c_ops = [c1, c2, c3, c4, c5,c6]  # collapse operator list"
      ],
      "metadata": {
        "id": "MWwfzXkMyULe"
      },
      "execution_count": null,
      "outputs": []
    },
    {
      "cell_type": "code",
      "source": [
        "# getting eigen states and energies\n",
        "en,T = H.eigenstates()"
      ],
      "metadata": {
        "id": "XytNUo1QyUO0"
      },
      "execution_count": null,
      "outputs": []
    },
    {
      "cell_type": "code",
      "source": [
        "plt.figure()\n",
        "plt.plot(en, 'o')\n",
        "plt.xlabel('States')\n",
        "plt.ylabel('Energies (eV)')\n",
        "plt.title('Eigen energies')\n",
        "plt.show()\n"
      ],
      "metadata": {
        "id": "Nb65lqrJzkl2"
      },
      "execution_count": null,
      "outputs": []
    },
    {
      "cell_type": "code",
      "source": [
        "plt.figure()\n",
        "plt.imshow(np.real(H.transform(T).full()))\n",
        "plt.title('Total Hamiltonian in eigen basis')\n",
        "plt.colorbar()\n",
        "plt.show()"
      ],
      "metadata": {
        "id": "cQAPU8iFzj-2"
      },
      "execution_count": null,
      "outputs": []
    },
    {
      "cell_type": "code",
      "source": [
        "plt.figure()\n",
        "plt.imshow(np.real(mu.transform(T).full()))\n",
        "plt.title('Total dipole in eigen basis')\n",
        "plt.colorbar()\n",
        "plt.show()"
      ],
      "metadata": {
        "id": "ZBmNAsBp0MBE"
      },
      "execution_count": null,
      "outputs": []
    },
    {
      "cell_type": "code",
      "source": [
        "# setting up initial state\n",
        "rho = tensor(fock_dm(2, 0), fock_dm(2, 0), fock_dm(2,0), fock_dm(n,0), fock_dm(n,0), fock_dm(n,0))  # ground state of Hamiltonian\n",
        "plt.figure()\n",
        "plt.imshow(np.real(rho.full()))\n",
        "plt.title('Initial state in initial basis')\n",
        "plt.colorbar()\n",
        "plt.show()"
      ],
      "metadata": {
        "id": "LsAa64DRyUQO"
      },
      "execution_count": null,
      "outputs": []
    },
    {
      "cell_type": "code",
      "source": [
        "plt.figure()\n",
        "plt.imshow(np.real(rho.transform(T).full()))\n",
        "plt.title('Initial state in initial basis')\n",
        "plt.colorbar()\n",
        "plt.show()"
      ],
      "metadata": {
        "id": "BxiMrD-CyUTt"
      },
      "execution_count": null,
      "outputs": []
    },
    {
      "cell_type": "code",
      "source": [
        "sys = System(H=H.transform(T), rho=rho.transform(T), a=A, u=mu, c_ops=[], diagonalize=True)"
      ],
      "metadata": {
        "id": "u-H0zth-0inv"
      },
      "execution_count": null,
      "outputs": []
    },
    {
      "cell_type": "code",
      "source": [
        "sys.diagram_donkey([0, 10, 20, 50], [R1])"
      ],
      "metadata": {
        "id": "XLq_9TaayUWp"
      },
      "execution_count": null,
      "outputs": []
    },
    {
      "cell_type": "code",
      "source": [
        "# generating 2Dcoherence response for rephasing\n",
        "time_delays = [20, 10, 100]\n",
        "scan_id = [0, 2]\n",
        "response_list = []\n",
        "total_diagrams = rephasing+nonrephasing\n",
        "for k in range(6):\n",
        "    states, t1, t2, dipole = sys.coherence2d(time_delays, total_diagrams[k], scan_id, r=1, parallel=True)\n",
        "    response_list.append(1j*dipole)\n",
        "spectra_list, extent, f1, f2 = sys.spectra(np.imag(response_list), resolution=1)\n",
        "qsave(spectra_list, 'example1_res1_spectra_list')\n",
        "qsave(response_list, 'exampel1_res1_response_list')\n",
        "pf.multiplot(np.imag(spectra_list), extent, ['E emission', 'E absorption'], ['R1', 'R2', 'R3', 'R4', 'R5', 'R6'], 'log',\n",
        "             color_map='PuOr')"
      ],
      "metadata": {
        "id": "Y3DaqsPN1M19"
      },
      "execution_count": null,
      "outputs": []
    },
    {
      "cell_type": "markdown",
      "source": [
        "# Note: \n",
        "\n",
        "\n",
        "1.   The silva_plots function has some issue with the labeling of the axis (i am looking into it now), that's why it was giving wrong energies for peaks (~ 1eV instead of ~2 eV).\n",
        "2.   For now you can use local jupyter notebook/lab to run this file and using command %matplotlib to get the above plots in a new window. The advantage is that you get zoom function which can be use to explore all the diagrams (R1 through 6) easily.\n",
        "\n",
        "3. Notice the peaks at very very low frequencies. In my understanding these are the consequences of the oscillator 1 with E1=0.01 eV. It would be interesting to see dipole allowed transitions on energy level diagram\n",
        "\n"
      ],
      "metadata": {
        "id": "EGxw7SjP2BII"
      }
    },
    {
      "cell_type": "code",
      "source": [
        "mud_mat = mu.transform(T).full()\n",
        "print('states connected via dipole operator')\n",
        "connected_states = []\n",
        "for i in range(len(mud_mat)):\n",
        "   connected_states += [(i,x) for x in np.where(np.abs(mud_mat[i])>1e-2)[0]]\n",
        "# now these tuples are double counting the number of connections. \n",
        "# removing the double counting by requiring that second state always be greater than first one\n",
        "connected_states = [x for x in connected_states if x[0]<x[1]]\n",
        "print('total connected state pairs ', len(connected_states))\n",
        "print('first 10 are ')\n",
        "connected_states[:10]\n"
      ],
      "metadata": {
        "id": "tYxrOv3R1hOS"
      },
      "execution_count": null,
      "outputs": []
    },
    {
      "cell_type": "markdown",
      "source": [
        "### now i need to make a function for plotting lines on energy diagram from these tuples."
      ],
      "metadata": {
        "id": "FDXdZKcW5jCq"
      }
    },
    {
      "cell_type": "code",
      "source": [
        "plt.figure()\n",
        "plt.plot(range(len(en)),en,'o')\n",
        "plt.xlabel('States')\n",
        "plt.ylabel('Energy (eV)')\n",
        "plt.title('Eigenstates and energies along with dipole elements')\n",
        "\n",
        "max_dipole = np.abs(np.max(mud_mat))\n",
        "for k in connected_states:\n",
        "  x,y = k\n",
        "  ex = en[x]\n",
        "  ey = en[y]\n",
        "  lx = y-x\n",
        "  ly = ey-ex\n",
        "  plt.arrow(x, ex, y-x, ey-ex, lw=np.abs(mud_mat[x,y]), color=list([1,1-np.abs(mud_mat[x,y])/max_dipole,0]))\n",
        "plt.show()"
      ],
      "metadata": {
        "id": "jyRxAIFI2AJ4"
      },
      "execution_count": null,
      "outputs": []
    },
    {
      "cell_type": "markdown",
      "source": [
        "### Note: In the above figure, both color and thickness of lines represent the magnitude of the dipole operator element connecting the two states. This shows that the structure of dipole operator (and consequently its action) is a little complecated in this diagonalzied coupled harmonic system. Additionally, there energy eigenstates with almost similar energy are also coupled via dipole elements, which results in very low frequency peaks observed in R1 through R6."
      ],
      "metadata": {
        "id": "CTEqrgeovhCI"
      }
    },
    {
      "cell_type": "code",
      "source": [],
      "metadata": {
        "id": "G3BP93_0rLRw"
      },
      "execution_count": null,
      "outputs": []
    }
  ]
}